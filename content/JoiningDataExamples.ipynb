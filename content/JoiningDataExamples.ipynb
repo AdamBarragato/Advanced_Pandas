{
 "cells": [
  {
   "cell_type": "markdown",
   "metadata": {},
   "source": [
    "# Module 6 - Combining Data Examples"
   ]
  },
  {
   "cell_type": "code",
   "execution_count": null,
   "metadata": {},
   "outputs": [],
   "source": [
    "import pandas as pd\n",
    "from IPython.core.interactiveshell import InteractiveShell\n",
    "InteractiveShell.ast_node_interactivity = \"all\"\n",
    "pd.options.display.max_columns = None"
   ]
  },
  {
   "cell_type": "markdown",
   "metadata": {},
   "source": [
    "## Concatenation"
   ]
  },
  {
   "cell_type": "markdown",
   "metadata": {},
   "source": [
    "First, let's look at a simple example where we have two different dataframes that both have the same columns (e.g. adding more data to the dataset). In this case, we don't need to merge because we have the same information, but are just trying to combine dataframes vertically. This can be done with the .concat() function.\n",
    "\n",
    "As an example, we will combine dataframes of AirBnB listings from two different cities: Chicago and Istanbul. This will eventually allow us to analyze how AirBnBs differ between the two cities."
   ]
  },
  {
   "cell_type": "code",
   "execution_count": null,
   "metadata": {},
   "outputs": [],
   "source": [
    "#read in the two dataframes\n",
    "chicago = pd.read_csv('Chicago_airbnb_listings.csv')\n",
    "istanbul = pd.read_csv('Istanbul_airbnb_listings.csv')\n",
    "\n",
    "#However, since these dataframes don't have any column that would identify, with certainty, which original dataframe it was from, we will add a column to each dataframe\n",
    "chicago['location'] = 'Chicago'\n",
    "istanbul['location'] = 'Istanbul'"
   ]
  },
  {
   "cell_type": "code",
   "execution_count": null,
   "metadata": {},
   "outputs": [],
   "source": [
    "#vertically concatenate the two dataframes\n",
    "combined_listings = pd.concat([chicago,istanbul],ignore_index=True) #we don't need to keep the original indexes, so we can use ignore_index to reindex the data\n",
    "combined_listings.to_csv('Combined_airbnb_listings.csv',index=False) #adding index=False will prevent duplicate index columns when we read this data in later\n",
    "combined_listings"
   ]
  },
  {
   "cell_type": "code",
   "execution_count": null,
   "metadata": {},
   "outputs": [],
   "source": [
    "#Look at the shape of each dataframe\n",
    "chicago.shape\n",
    "istanbul.shape\n",
    "combined_listings.shape"
   ]
  },
  {
   "cell_type": "markdown",
   "metadata": {},
   "source": [
    "As we can see, the shape of the combined dataframe is defined by the sum of number of rows in each initial dataframe.  This method works for combining multiple dataframes vertically, not just two!"
   ]
  },
  {
   "cell_type": "markdown",
   "metadata": {},
   "source": [
    "## Merging"
   ]
  },
  {
   "cell_type": "markdown",
   "metadata": {},
   "source": [
    "The more complicated case is when we want to combine data with a relationship (e.g. datasets with common columns). As an example, let's look at older AirBnB listing data for Chicago versus newer listing data.  These datasets should have a relationship (if there are listings in common they should have the same listing ID), so we can use .merge() to join these.  This can be used to tell how listings changed over the past year."
   ]
  },
  {
   "cell_type": "code",
   "execution_count": null,
   "metadata": {},
   "outputs": [],
   "source": [
    "# Load the dataframes\n",
    "chicago_current = pd.read_csv('Chicago_airbnb_listings.csv')\n",
    "chicago_old = pd.read_csv('Chicago_airbnb_listings_archived.csv')\n",
    "chicago_current.shape\n",
    "chicago_old.shape"
   ]
  },
  {
   "cell_type": "markdown",
   "metadata": {},
   "source": [
    "As we can see, it looks like there used to be more listings than there are now.  However, this doesn't tell us the full story. Let's first take a look at how many of the old listings are still there today (i.e. listings that are in common between the old and new listings)"
   ]
  },
  {
   "cell_type": "code",
   "execution_count": null,
   "metadata": {},
   "outputs": [],
   "source": [
    "#perform a merge\n",
    "pd.merge(chicago_current,chicago_old,on='id') #by default, an inner join is performed"
   ]
  },
  {
   "cell_type": "markdown",
   "metadata": {},
   "source": [
    "Looks like ~70% of current listings have been up for at least a year. Let's see how many unique values there are between the two now (outer join)."
   ]
  },
  {
   "cell_type": "code",
   "execution_count": null,
   "metadata": {},
   "outputs": [],
   "source": [
    "pd.merge(chicago_current,chicago_old,on='id', how='outer') "
   ]
  },
  {
   "cell_type": "markdown",
   "metadata": {},
   "source": [
    "The same methods can be used to perform left/right joins, just by changing the value for \"how\"."
   ]
  }
 ],
 "metadata": {
  "kernelspec": {
   "display_name": "csprimers",
   "language": "python",
   "name": "python3"
  },
  "language_info": {
   "codemirror_mode": {
    "name": "ipython",
    "version": 3
   },
   "file_extension": ".py",
   "mimetype": "text/x-python",
   "name": "python",
   "nbconvert_exporter": "python",
   "pygments_lexer": "ipython3",
   "version": "3.9.19"
  }
 },
 "nbformat": 4,
 "nbformat_minor": 2
}
