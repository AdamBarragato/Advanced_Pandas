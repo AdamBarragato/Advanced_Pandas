{
 "cells": [
  {
   "cell_type": "markdown",
   "metadata": {},
   "source": [
    "# Module 6 - Syntax Examples "
   ]
  },
  {
   "cell_type": "markdown",
   "metadata": {},
   "source": [
    "## Lambda Functions"
   ]
  },
  {
   "cell_type": "code",
   "execution_count": null,
   "metadata": {},
   "outputs": [],
   "source": [
    "import pandas as pd"
   ]
  },
  {
   "cell_type": "code",
   "execution_count": null,
   "metadata": {},
   "outputs": [],
   "source": [
    "# Here is how we have used functions thus far - Taken from Module 5 Data Prep examples\n",
    "\n",
    "def difference(row): #This function simply shows how to calculate the difference between two columns\n",
    "\treturn row['host_total_listings_count']-row['calculated_host_listings_count']\n",
    "\n",
    "listings = pd.read_csv('Chicago_airbnb_listings.csv')\n",
    "\n",
    "listings['host_listings_outside_area'] = listings.apply(difference,axis=1) #using the function to populate a new column\n",
    "listings['host_listings_outside_area'].value_counts(ascending=False)"
   ]
  },
  {
   "cell_type": "code",
   "execution_count": null,
   "metadata": {},
   "outputs": [],
   "source": [
    "# The same code re-written using lambda functions\n",
    "listings = pd.read_csv('Chicago_airbnb_listings.csv')\n",
    "\n",
    "listings['host_listings_outside_area'] = listings.apply(lambda x: x['host_total_listings_count']-x['calculated_host_listings_count'],axis=1) \n",
    "listings['host_listings_outside_area'].value_counts(ascending=False)"
   ]
  },
  {
   "cell_type": "markdown",
   "metadata": {},
   "source": [
    "## Chaining"
   ]
  },
  {
   "cell_type": "code",
   "execution_count": null,
   "metadata": {},
   "outputs": [],
   "source": [
    "# Here is an example of code similar to what we used in Module 5\n",
    "listings_nonchained = listings.dropna(subset=['price'])\n",
    "listings_nonchained = listings_nonchained.drop(['neighbourhood_group_cleansed','calendar_updated','license','scrape_id','last_scraped','source','listing_url','picture_url','host_url','host_thumbnail_url','host_picture_url'],axis=1)\n",
    "listings_nonchained = listings_nonchained.drop_duplicates()\n",
    "listings_nonchained = listings_nonchained[(listings_nonchained['property_type'].str.contains('hotel')==False) & (listings_nonchained['room_type'].str.contains('Hotel')==False)] \n",
    "listings_nonchained"
   ]
  },
  {
   "cell_type": "code",
   "execution_count": null,
   "metadata": {},
   "outputs": [],
   "source": [
    "# This is equivalent code, but with chaining\n",
    "cols_to_delete = ['neighbourhood_group_cleansed','calendar_updated','license','scrape_id','last_scraped','source','listing_url','picture_url','host_url','host_thumbnail_url','host_picture_url']\n",
    "listings.dropna(subset=['price']).drop(cols_to_delete,axis=1).drop_duplicates()[(listings['property_type'].str.contains('hotel')==False) & (listings['room_type'].str.contains('Hotel')==False)]"
   ]
  }
 ],
 "metadata": {
  "kernelspec": {
   "display_name": "csprimers",
   "language": "python",
   "name": "python3"
  },
  "language_info": {
   "codemirror_mode": {
    "name": "ipython",
    "version": 3
   },
   "file_extension": ".py",
   "mimetype": "text/x-python",
   "name": "python",
   "nbconvert_exporter": "python",
   "pygments_lexer": "ipython3",
   "version": "3.9.19"
  }
 },
 "nbformat": 4,
 "nbformat_minor": 2
}
